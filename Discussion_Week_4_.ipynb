{
  "nbformat": 4,
  "nbformat_minor": 0,
  "metadata": {
    "colab": {
      "name": "Discussion - Week 4 .ipynb",
      "provenance": []
    },
    "kernelspec": {
      "name": "python3",
      "display_name": "Python 3"
    },
    "language_info": {
      "name": "python"
    }
  },
  "cells": [
    {
      "cell_type": "code",
      "execution_count": null,
      "metadata": {
        "id": "vGzkuW-yuEi4"
      },
      "outputs": [],
      "source": [
        "title = \"Quiz 4\""
      ]
    },
    {
      "cell_type": "code",
      "source": [
        "for char in title: \n",
        "  print(char)"
      ],
      "metadata": {
        "colab": {
          "base_uri": "https://localhost:8080/"
        },
        "id": "EHcQbTBXuLeF",
        "outputId": "a097ccb8-8188-4ce9-b84c-cc6bffa91f77"
      },
      "execution_count": null,
      "outputs": [
        {
          "output_type": "stream",
          "name": "stdout",
          "text": [
            "Q\n",
            "u\n",
            "i\n",
            "z\n",
            " \n",
            "4\n"
          ]
        }
      ]
    },
    {
      "cell_type": "code",
      "source": [
        "#Lists are iterable items in Python. \n",
        "randomItems = [4, 6, 2, 56, 23, 623, 453]\n",
        "fruits = [\"apple\", \"grape\", \"orange\", \"guava\", \"banana\", \"apple\"]\n",
        "\n",
        "#Each individual element inside a list can be accessed using a for loop\n",
        "for item in fruits: \n",
        "  print(item)"
      ],
      "metadata": {
        "colab": {
          "base_uri": "https://localhost:8080/"
        },
        "id": "SNjvimUruQz6",
        "outputId": "0051ad4c-a93d-4732-d2a4-a50975d29090"
      },
      "execution_count": null,
      "outputs": [
        {
          "output_type": "stream",
          "name": "stdout",
          "text": [
            "apple\n",
            "grape\n",
            "orange\n",
            "guava\n",
            "banana\n"
          ]
        }
      ]
    },
    {
      "cell_type": "code",
      "source": [
        "fruits = [\"apple\", \"grape\", \"orange\", \"guava\", \"banana\", \"apple\"]\n",
        "\n"
      ],
      "metadata": {
        "colab": {
          "base_uri": "https://localhost:8080/",
          "height": 202
        },
        "id": "Hrlv0TjOuZY_",
        "outputId": "f3250ea6-1b66-4573-bf25-559bd6d841a1"
      },
      "execution_count": null,
      "outputs": [
        {
          "output_type": "error",
          "ename": "ValueError",
          "evalue": "ignored",
          "traceback": [
            "\u001b[0;31m---------------------------------------------------------------------------\u001b[0m",
            "\u001b[0;31mValueError\u001b[0m                                Traceback (most recent call last)",
            "\u001b[0;32m<ipython-input-13-716232770ae5>\u001b[0m in \u001b[0;36m<module>\u001b[0;34m()\u001b[0m\n\u001b[1;32m      1\u001b[0m \u001b[0mfruits\u001b[0m \u001b[0;34m=\u001b[0m \u001b[0;34m[\u001b[0m\u001b[0;34m\"apple\"\u001b[0m\u001b[0;34m,\u001b[0m \u001b[0;34m\"grape\"\u001b[0m\u001b[0;34m,\u001b[0m \u001b[0;34m\"orange\"\u001b[0m\u001b[0;34m,\u001b[0m \u001b[0;34m\"guava\"\u001b[0m\u001b[0;34m,\u001b[0m \u001b[0;34m\"banana\"\u001b[0m\u001b[0;34m,\u001b[0m \u001b[0;34m\"apple\"\u001b[0m\u001b[0;34m]\u001b[0m\u001b[0;34m\u001b[0m\u001b[0;34m\u001b[0m\u001b[0m\n\u001b[1;32m      2\u001b[0m \u001b[0;34m\u001b[0m\u001b[0m\n\u001b[0;32m----> 3\u001b[0;31m \u001b[0mprint\u001b[0m\u001b[0;34m(\u001b[0m\u001b[0;34m\"Indedx of Apple: \"\u001b[0m \u001b[0;34m+\u001b[0m \u001b[0mstr\u001b[0m\u001b[0;34m(\u001b[0m\u001b[0mfruits\u001b[0m\u001b[0;34m.\u001b[0m\u001b[0mindex\u001b[0m\u001b[0;34m(\u001b[0m\u001b[0;34m\"pineapple\"\u001b[0m\u001b[0;34m)\u001b[0m\u001b[0;34m)\u001b[0m\u001b[0;34m)\u001b[0m\u001b[0;34m\u001b[0m\u001b[0;34m\u001b[0m\u001b[0m\n\u001b[0m",
            "\u001b[0;31mValueError\u001b[0m: 'pineapple' is not in list"
          ]
        }
      ]
    },
    {
      "cell_type": "code",
      "source": [
        "letters = ['a', 's', 'd', 'f']\n",
        "\n",
        "print(letters[-1]) #Notice we didn't use -0 "
      ],
      "metadata": {
        "colab": {
          "base_uri": "https://localhost:8080/"
        },
        "id": "1UaMHAgUvKlr",
        "outputId": "2978179b-e7a6-4195-a89f-5b2728ec0b0a"
      },
      "execution_count": null,
      "outputs": [
        {
          "output_type": "stream",
          "name": "stdout",
          "text": [
            "f\n"
          ]
        }
      ]
    },
    {
      "cell_type": "code",
      "source": [
        "#To print the 2nd last element from an iterable\n",
        "print(letters[-3])"
      ],
      "metadata": {
        "colab": {
          "base_uri": "https://localhost:8080/"
        },
        "id": "IWJ84ZhavR4G",
        "outputId": "b2486c07-0b34-4100-a793-b6077c90067e"
      },
      "execution_count": null,
      "outputs": [
        {
          "output_type": "stream",
          "name": "stdout",
          "text": [
            "s\n"
          ]
        }
      ]
    },
    {
      "cell_type": "code",
      "source": [
        "print(\"Indedx of Banana: \" + str(fruits.index(\"banana\")))\n"
      ],
      "metadata": {
        "id": "BRaKurrFurbM"
      },
      "execution_count": null,
      "outputs": []
    },
    {
      "cell_type": "code",
      "source": [
        "title = \"A B C D E F G H  gldjgldjg;lj ls ;lj;lgj; gdhd\"\n",
        "print(title[-1])"
      ],
      "metadata": {
        "colab": {
          "base_uri": "https://localhost:8080/"
        },
        "id": "m9qELN9kvWdF",
        "outputId": "84dc53c3-945f-496b-844a-0aa89e8ac72f"
      },
      "execution_count": null,
      "outputs": [
        {
          "output_type": "stream",
          "name": "stdout",
          "text": [
            "d\n"
          ]
        }
      ]
    },
    {
      "cell_type": "code",
      "source": [
        "print(title[len(title)-1])"
      ],
      "metadata": {
        "colab": {
          "base_uri": "https://localhost:8080/"
        },
        "id": "mbOqINbSvdKN",
        "outputId": "63e3fc24-be74-4a17-f2ab-2de90a06ed2c"
      },
      "execution_count": null,
      "outputs": [
        {
          "output_type": "stream",
          "name": "stdout",
          "text": [
            "4\n"
          ]
        }
      ]
    },
    {
      "cell_type": "code",
      "source": [
        "fruits = [\"apple\", \"grape\", \"orange\", \"guava\", \"banana\", \"apple\"]\n",
        "letters = ['a', 's', 'd', 'f']\n",
        "\n",
        "#Each individual element inside a list can be accessed using a for loop\n",
        "for item in fruits: \n",
        "  for jtem in letters:\n",
        "    print(jtem)\n",
        "    print(item)"
      ],
      "metadata": {
        "colab": {
          "base_uri": "https://localhost:8080/"
        },
        "id": "bEn52h_PvpsD",
        "outputId": "a6b26b87-8230-44ac-ef29-e2134bf98f08"
      },
      "execution_count": null,
      "outputs": [
        {
          "output_type": "stream",
          "name": "stdout",
          "text": [
            "a\n",
            "apple\n",
            "s\n",
            "apple\n",
            "d\n",
            "apple\n",
            "f\n",
            "apple\n",
            "a\n",
            "grape\n",
            "s\n",
            "grape\n",
            "d\n",
            "grape\n",
            "f\n",
            "grape\n",
            "a\n",
            "orange\n",
            "s\n",
            "orange\n",
            "d\n",
            "orange\n",
            "f\n",
            "orange\n",
            "a\n",
            "guava\n",
            "s\n",
            "guava\n",
            "d\n",
            "guava\n",
            "f\n",
            "guava\n",
            "a\n",
            "banana\n",
            "s\n",
            "banana\n",
            "d\n",
            "banana\n",
            "f\n",
            "banana\n",
            "a\n",
            "apple\n",
            "s\n",
            "apple\n",
            "d\n",
            "apple\n",
            "f\n",
            "apple\n"
          ]
        }
      ]
    },
    {
      "cell_type": "code",
      "source": [
        "i = 0\n",
        "while (i< len(fruits)):\n",
        "  print(fruits[i])\n",
        "  i = i + 1"
      ],
      "metadata": {
        "colab": {
          "base_uri": "https://localhost:8080/"
        },
        "id": "Aoyi264XwN6b",
        "outputId": "11906068-6e57-43ec-fbed-cddb164b6bc7"
      },
      "execution_count": null,
      "outputs": [
        {
          "output_type": "stream",
          "name": "stdout",
          "text": [
            "apple\n",
            "grape\n",
            "orange\n",
            "guava\n",
            "banana\n",
            "apple\n"
          ]
        }
      ]
    }
  ]
}